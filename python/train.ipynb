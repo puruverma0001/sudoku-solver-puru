{
 "cells": [
  {
   "cell_type": "code",
   "execution_count": 23,
   "metadata": {},
   "outputs": [
    {
     "name": "stdout",
     "output_type": "stream",
     "text": [
      "The tensorboard extension is already loaded. To reload it, use:\n",
      "  %reload_ext tensorboard\n"
     ]
    }
   ],
   "source": [
    "# Load the TensorBoard notebook extension\n",
    "%load_ext tensorboard"
   ]
  },
  {
   "cell_type": "code",
   "execution_count": 24,
   "metadata": {},
   "outputs": [],
   "source": [
    "import tensorflow as tf\n",
    "import datetime\n",
    "from tensorflow.keras.models import Sequential\n",
    "from tensorflow.keras.layers import Dense, Conv2D, Flatten, Dropout, MaxPooling2D\n",
    "from tensorflow.keras.preprocessing.image import ImageDataGenerator\n",
    "from tensorflow.keras import regularizers\n",
    "import matplotlib.pyplot as plt\n",
    "# local imports\n",
    "from lib.plot_images import plot_images\n",
    "from lib.confusion_matrix import create_confusion_matrix_callback"
   ]
  },
  {
   "cell_type": "markdown",
   "metadata": {},
   "source": [
    "# Clear down the log files from all runs\n",
    "Use this to clear out all the data that tensorboard shows"
   ]
  },
  {
   "cell_type": "code",
   "execution_count": 25,
   "metadata": {},
   "outputs": [],
   "source": [
    "!rm -rf ./logs/ "
   ]
  },
  {
   "cell_type": "markdown",
   "metadata": {},
   "source": [
    "# Training hyperparameters"
   ]
  },
  {
   "cell_type": "code",
   "execution_count": 26,
   "metadata": {},
   "outputs": [],
   "source": [
    "batch_size = 32\n",
    "epochs = 100"
   ]
  },
  {
   "cell_type": "markdown",
   "metadata": {},
   "source": [
    "# This must match what is used in the javascript code"
   ]
  },
  {
   "cell_type": "code",
   "execution_count": null,
   "metadata": {},
   "outputs": [],
   "source": [
    "IMG_HEIGHT = 20\n",
    "IMG_WIDTH = 20"
   ]
  },
  {
   "cell_type": "markdown",
   "metadata": {},
   "source": [
    "# Data Generators\n",
    "We defined two data generators, one that augments the data to make our training more general and one that just scales and centers the data."
   ]
  },
  {
   "cell_type": "code",
   "execution_count": 27,
   "metadata": {},
   "outputs": [],
   "source": [
    "augmented_image_gen = ImageDataGenerator(\n",
    "    rotation_range=2,\n",
    "    width_shift_range=.1,\n",
    "    height_shift_range=.1,\n",
    "    zoom_range=0.1,\n",
    "    shear_range=2,\n",
    "    brightness_range=[0.9, 1.1],\n",
    "    validation_split=0.2,\n",
    "    samplewise_center=True,\n",
    "    samplewise_std_normalization=True)\n",
    "\n",
    "normal_image_gen = ImageDataGenerator(\n",
    "    validation_split=0.2,\n",
    "    samplewise_center=True,\n",
    "    samplewise_std_normalization=True\n",
    ")"
   ]
  },
  {
   "cell_type": "markdown",
   "metadata": {},
   "source": [
    "# Load in the data\n",
    "For the training data and validation data it's important that they have the same seed so we get the correct validation subset for the training subset."
   ]
  },
  {
   "cell_type": "code",
   "execution_count": 28,
   "metadata": {},
   "outputs": [
    {
     "name": "stdout",
     "output_type": "stream",
     "text": [
      "Found 3744 images belonging to 9 classes.\n",
      "Found 929 images belonging to 9 classes.\n",
      "Found 929 images belonging to 9 classes.\n"
     ]
    }
   ],
   "source": [
    "train_data_gen = augmented_image_gen.flow_from_directory(batch_size=batch_size,\n",
    "                                                     directory=\"training_data\",\n",
    "                                                     color_mode=\"grayscale\",\n",
    "                                                     shuffle=True,\n",
    "                                                     target_size=(IMG_HEIGHT, IMG_WIDTH),\n",
    "                                                     class_mode=\"categorical\",\n",
    "                                                     seed=65657867,\n",
    "                                                     subset='training')\n",
    "val_data_gen = normal_image_gen.flow_from_directory(batch_size=batch_size,\n",
    "                                                     directory=\"training_data\",\n",
    "                                                     color_mode=\"grayscale\",\n",
    "                                                     shuffle=True,\n",
    "                                                     target_size=(IMG_HEIGHT, IMG_WIDTH),\n",
    "                                                     class_mode=\"categorical\",\n",
    "                                                     seed=65657867,\n",
    "                                                     subset='validation')\n",
    "confusion_data_gen = normal_image_gen.flow_from_directory(batch_size=train_data_gen.samples,\n",
    "                                                     directory=\"training_data\",\n",
    "                                                     color_mode=\"grayscale\",\n",
    "                                                     shuffle=False,\n",
    "                                                     target_size=(IMG_HEIGHT, IMG_WIDTH),\n",
    "                                                     class_mode=\"categorical\",\n",
    "                                                     seed=65657867,\n",
    "                                                     subset='validation')"
   ]
  },
  {
   "cell_type": "code",
   "execution_count": 29,
   "metadata": {},
   "outputs": [
    {
     "data": {
      "image/png": "[encoded data removed]",
      "text/plain": [
       "<Figure size 1440x1440 with 5 Axes>"
      ]
     },
     "metadata": {
      "needs_background": "light"
     },
     "output_type": "display_data"
    }
   ],
   "source": [
    "sample_training_images, _ = next(train_data_gen)\n",
    "plot_images(sample_training_images[:5], IMG_WIDTH, IMG_HEIGHT)"
   ]
  },
  {
   "cell_type": "markdown",
   "metadata": {},
   "source": [
    "# Our very simple model\n",
    "A single convolution layer, followed by a dense layer followed by the output layer.\n",
    "We're using linear regularisation and dropouts to prevent overfitting of the training data."
   ]
  },
  {
   "cell_type": "code",
   "execution_count": 31,
   "metadata": {},
   "outputs": [],
   "source": [
    "model = Sequential([\n",
    "    Conv2D(16, 3, \n",
    "           padding='same',\n",
    "           activation='relu',\n",
    "           kernel_regularizer=regularizers.l2(0.0001),\n",
    "           input_shape=(IMG_HEIGHT, IMG_WIDTH , 1)),\n",
    "    MaxPooling2D(),\n",
    "    Dropout(0.2),\n",
    "    Flatten(),\n",
    "    Dense(\n",
    "        50,\n",
    "        activation='relu',\n",
    "        kernel_regularizer=regularizers.l2(0.0001)\n",
    "    ),\n",
    "    Dropout(0.2),\n",
    "    Dense(9, activation='softmax')\n",
    "])\n"
   ]
  },
  {
   "cell_type": "markdown",
   "metadata": {},
   "source": [
    "# Logging to tensorboard\n",
    "We log the training stats along with the confusion matrix of the test data - should we be using the validation data for this?"
   ]
  },
  {
   "cell_type": "code",
   "execution_count": 32,
   "metadata": {},
   "outputs": [],
   "source": [
    "log_dir = \"logs/fit/\" + datetime.datetime.now().strftime(\"%Y%m%d-%H%M%S\")\n",
    "log_confusion_matrix = create_confusion_matrix_callback(model, confusion_data_gen, log_dir)\n",
    "cm_callback = tf.keras.callbacks.LambdaCallback(on_epoch_end=log_confusion_matrix)\n",
    "log_dir = \"logs/fit/\" + datetime.datetime.now().strftime(\"%Y%m%d-%H%M%S\")\n",
    "tensorboard_callback = tf.keras.callbacks.TensorBoard(log_dir=log_dir, histogram_freq=1)"
   ]
  },
  {
   "cell_type": "markdown",
   "metadata": {},
   "source": [
    "# Show tensorboard inline"
   ]
  },
  {
   "cell_type": "code",
   "execution_count": 33,
   "metadata": {},
   "outputs": [
    {
     "data": {
      "text/html": [
       "\n",
       "      <iframe id=\"tensorboard-frame-6896ab76f19c28b0\" width=\"100%\" height=\"800\" frameborder=\"0\">\n",
       "      </iframe>\n",
       "      <script>\n",
       "        (function() {\n",
       "          const frame = document.getElementById(\"tensorboard-frame-6896ab76f19c28b0\");\n",
       "          const url = new URL(\"/\", window.location);\n",
       "          url.port = 6007;\n",
       "          frame.src = url;\n",
       "        })();\n",
       "      </script>\n",
       "  "
      ],
      "text/plain": [
       "<IPython.core.display.HTML object>"
      ]
     },
     "metadata": {},
     "output_type": "display_data"
    }
   ],
   "source": [
    "# launch tensorboard inline with the workbook\n",
    "%tensorboard --logdir logs"
   ]
  },
  {
   "cell_type": "markdown",
   "metadata": {},
   "source": [
    "# Do the actual training"
   ]
  },
  {
   "cell_type": "code",
   "execution_count": 34,
   "metadata": {},
   "outputs": [
    {
     "name": "stdout",
     "output_type": "stream",
     "text": [
      "Epoch 1/100\n",
      "117/117 [==============================] - 5s 39ms/step - loss: 0.7734 - accuracy: 0.7567 - val_loss: 0.2148 - val_accuracy: 0.9364\n",
      "Epoch 2/100\n",
      "117/117 [==============================] - 5s 39ms/step - loss: 0.3092 - accuracy: 0.9129 - val_loss: 0.1304 - val_accuracy: 0.9623\n",
      "Epoch 3/100\n",
      "117/117 [==============================] - 5s 41ms/step - loss: 0.2444 - accuracy: 0.9284 - val_loss: 0.0860 - val_accuracy: 0.9774\n",
      "Epoch 4/100\n",
      "117/117 [==============================] - 4s 38ms/step - loss: 0.1955 - accuracy: 0.9482 - val_loss: 0.0783 - val_accuracy: 0.9784\n",
      "Epoch 5/100\n",
      "117/117 [==============================] - 5s 39ms/step - loss: 0.1734 - accuracy: 0.9530 - val_loss: 0.0684 - val_accuracy: 0.9838\n",
      "Epoch 6/100\n",
      "117/117 [==============================] - 4s 37ms/step - loss: 0.1524 - accuracy: 0.9610 - val_loss: 0.0745 - val_accuracy: 0.9752\n",
      "Epoch 7/100\n",
      "117/117 [==============================] - 5s 41ms/step - loss: 0.1387 - accuracy: 0.9671 - val_loss: 0.0889 - val_accuracy: 0.9731\n",
      "Epoch 8/100\n",
      "117/117 [==============================] - 5s 39ms/step - loss: 0.1275 - accuracy: 0.9663 - val_loss: 0.0698 - val_accuracy: 0.9795\n",
      "Epoch 9/100\n",
      "117/117 [==============================] - 4s 32ms/step - loss: 0.1132 - accuracy: 0.9688 - val_loss: 0.0539 - val_accuracy: 0.9871\n",
      "Epoch 10/100\n",
      "117/117 [==============================] - 4s 32ms/step - loss: 0.1098 - accuracy: 0.9698 - val_loss: 0.0673 - val_accuracy: 0.9838\n",
      "Epoch 11/100\n",
      "117/117 [==============================] - 4s 32ms/step - loss: 0.1165 - accuracy: 0.9720 - val_loss: 0.0486 - val_accuracy: 0.9881\n",
      "Epoch 12/100\n",
      "117/117 [==============================] - 4s 32ms/step - loss: 0.1026 - accuracy: 0.9762 - val_loss: 0.0471 - val_accuracy: 0.9914\n",
      "Epoch 13/100\n",
      "117/117 [==============================] - 6s 50ms/step - loss: 0.0986 - accuracy: 0.9765 - val_loss: 0.0448 - val_accuracy: 0.9881\n",
      "Epoch 14/100\n",
      "117/117 [==============================] - 4s 34ms/step - loss: 0.0951 - accuracy: 0.9770 - val_loss: 0.0740 - val_accuracy: 0.9817\n",
      "Epoch 15/100\n",
      "117/117 [==============================] - 4s 35ms/step - loss: 0.0906 - accuracy: 0.9792 - val_loss: 0.0542 - val_accuracy: 0.9892\n",
      "Epoch 16/100\n",
      "117/117 [==============================] - 4s 33ms/step - loss: 0.0885 - accuracy: 0.9805 - val_loss: 0.0544 - val_accuracy: 0.9892\n",
      "Epoch 17/100\n",
      "117/117 [==============================] - 4s 33ms/step - loss: 0.0876 - accuracy: 0.9789 - val_loss: 0.0470 - val_accuracy: 0.9903\n",
      "Epoch 18/100\n",
      "117/117 [==============================] - 4s 33ms/step - loss: 0.0821 - accuracy: 0.9805 - val_loss: 0.0475 - val_accuracy: 0.9881\n",
      "Epoch 19/100\n",
      "117/117 [==============================] - 4s 34ms/step - loss: 0.0760 - accuracy: 0.9805 - val_loss: 0.0415 - val_accuracy: 0.9935\n",
      "Epoch 20/100\n",
      "117/117 [==============================] - 4s 33ms/step - loss: 0.0759 - accuracy: 0.9837 - val_loss: 0.0394 - val_accuracy: 0.9903\n",
      "Epoch 21/100\n",
      "117/117 [==============================] - 4s 34ms/step - loss: 0.0880 - accuracy: 0.9800 - val_loss: 0.0543 - val_accuracy: 0.9892\n",
      "Epoch 22/100\n",
      "117/117 [==============================] - 4s 34ms/step - loss: 0.0722 - accuracy: 0.9845 - val_loss: 0.0459 - val_accuracy: 0.9925\n",
      "Epoch 23/100\n",
      "117/117 [==============================] - 4s 33ms/step - loss: 0.0748 - accuracy: 0.9829 - val_loss: 0.0538 - val_accuracy: 0.9881\n",
      "Epoch 24/100\n",
      "117/117 [==============================] - 4s 33ms/step - loss: 0.0750 - accuracy: 0.9837 - val_loss: 0.0402 - val_accuracy: 0.9925\n",
      "Epoch 25/100\n",
      "117/117 [==============================] - 4s 35ms/step - loss: 0.0734 - accuracy: 0.9834 - val_loss: 0.0550 - val_accuracy: 0.9892\n",
      "Epoch 26/100\n",
      "117/117 [==============================] - 4s 33ms/step - loss: 0.0844 - accuracy: 0.9792 - val_loss: 0.0441 - val_accuracy: 0.9946\n",
      "Epoch 27/100\n",
      "117/117 [==============================] - 4s 33ms/step - loss: 0.0704 - accuracy: 0.9850 - val_loss: 0.0653 - val_accuracy: 0.9871\n",
      "Epoch 28/100\n",
      "117/117 [==============================] - 4s 32ms/step - loss: 0.0730 - accuracy: 0.9834 - val_loss: 0.0474 - val_accuracy: 0.9892\n",
      "Epoch 29/100\n",
      "117/117 [==============================] - 4s 34ms/step - loss: 0.0696 - accuracy: 0.9853 - val_loss: 0.0511 - val_accuracy: 0.9914\n",
      "Epoch 30/100\n",
      "117/117 [==============================] - 4s 34ms/step - loss: 0.0642 - accuracy: 0.9864 - val_loss: 0.0448 - val_accuracy: 0.9935\n",
      "Epoch 31/100\n",
      "117/117 [==============================] - 4s 34ms/step - loss: 0.0670 - accuracy: 0.9861 - val_loss: 0.0562 - val_accuracy: 0.9871\n",
      "Epoch 32/100\n",
      "117/117 [==============================] - 4s 32ms/step - loss: 0.0667 - accuracy: 0.9845 - val_loss: 0.0506 - val_accuracy: 0.9914\n",
      "Epoch 33/100\n",
      "117/117 [==============================] - 4s 32ms/step - loss: 0.0592 - accuracy: 0.9882 - val_loss: 0.0443 - val_accuracy: 0.9935\n",
      "Epoch 34/100\n",
      "117/117 [==============================] - 4s 33ms/step - loss: 0.0640 - accuracy: 0.9872 - val_loss: 0.0457 - val_accuracy: 0.9925\n",
      "Epoch 35/100\n",
      "117/117 [==============================] - 4s 33ms/step - loss: 0.0716 - accuracy: 0.9850 - val_loss: 0.0624 - val_accuracy: 0.9860\n",
      "Epoch 36/100\n",
      "117/117 [==============================] - 4s 33ms/step - loss: 0.0661 - accuracy: 0.9885 - val_loss: 0.0406 - val_accuracy: 0.9946\n",
      "Epoch 37/100\n",
      "117/117 [==============================] - 4s 32ms/step - loss: 0.0681 - accuracy: 0.9861 - val_loss: 0.0411 - val_accuracy: 0.9957\n",
      "Epoch 38/100\n",
      "117/117 [==============================] - 4s 36ms/step - loss: 0.0688 - accuracy: 0.9858 - val_loss: 0.0385 - val_accuracy: 0.9925\n",
      "Epoch 39/100\n",
      "117/117 [==============================] - 4s 34ms/step - loss: 0.0564 - accuracy: 0.9888 - val_loss: 0.0443 - val_accuracy: 0.9925\n",
      "Epoch 40/100\n",
      "117/117 [==============================] - 4s 33ms/step - loss: 0.0732 - accuracy: 0.9853 - val_loss: 0.0503 - val_accuracy: 0.9925\n",
      "Epoch 41/100\n",
      "117/117 [==============================] - 4s 36ms/step - loss: 0.0650 - accuracy: 0.9880 - val_loss: 0.0431 - val_accuracy: 0.9935\n",
      "Epoch 42/100\n",
      "117/117 [==============================] - 4s 33ms/step - loss: 0.0623 - accuracy: 0.9877 - val_loss: 0.0435 - val_accuracy: 0.9946\n",
      "Epoch 43/100\n",
      "117/117 [==============================] - 4s 34ms/step - loss: 0.0706 - accuracy: 0.9856 - val_loss: 0.0431 - val_accuracy: 0.9946\n",
      "Epoch 44/100\n",
      "117/117 [==============================] - 4s 35ms/step - loss: 0.0731 - accuracy: 0.9858 - val_loss: 0.0421 - val_accuracy: 0.9946\n",
      "Epoch 45/100\n",
      "117/117 [==============================] - 4s 35ms/step - loss: 0.0604 - accuracy: 0.9893 - val_loss: 0.0518 - val_accuracy: 0.9946\n",
      "Epoch 46/100\n",
      "117/117 [==============================] - 4s 33ms/step - loss: 0.0662 - accuracy: 0.9877 - val_loss: 0.0632 - val_accuracy: 0.9849\n",
      "Epoch 47/100\n",
      "117/117 [==============================] - 4s 32ms/step - loss: 0.0608 - accuracy: 0.9901 - val_loss: 0.0498 - val_accuracy: 0.9903\n",
      "Epoch 48/100\n",
      "117/117 [==============================] - 4s 33ms/step - loss: 0.0561 - accuracy: 0.9915 - val_loss: 0.0534 - val_accuracy: 0.9914\n",
      "Epoch 49/100\n",
      "117/117 [==============================] - 4s 33ms/step - loss: 0.0614 - accuracy: 0.9885 - val_loss: 0.0469 - val_accuracy: 0.9946\n",
      "Epoch 50/100\n",
      "117/117 [==============================] - 4s 32ms/step - loss: 0.0581 - accuracy: 0.9901 - val_loss: 0.0478 - val_accuracy: 0.9935\n",
      "Epoch 51/100\n",
      "117/117 [==============================] - 4s 33ms/step - loss: 0.0580 - accuracy: 0.9893 - val_loss: 0.0444 - val_accuracy: 0.9935\n",
      "Epoch 52/100\n",
      "117/117 [==============================] - 4s 32ms/step - loss: 0.0649 - accuracy: 0.9890 - val_loss: 0.0496 - val_accuracy: 0.9914\n",
      "Epoch 53/100\n",
      "117/117 [==============================] - 4s 33ms/step - loss: 0.0606 - accuracy: 0.9893 - val_loss: 0.0512 - val_accuracy: 0.9903\n",
      "Epoch 54/100\n",
      "117/117 [==============================] - 4s 33ms/step - loss: 0.0581 - accuracy: 0.9917 - val_loss: 0.0411 - val_accuracy: 0.9978\n",
      "Epoch 55/100\n",
      "117/117 [==============================] - 4s 32ms/step - loss: 0.0525 - accuracy: 0.9925 - val_loss: 0.0538 - val_accuracy: 0.9914\n",
      "Epoch 56/100\n",
      "117/117 [==============================] - 4s 33ms/step - loss: 0.0634 - accuracy: 0.9872 - val_loss: 0.0491 - val_accuracy: 0.9903\n",
      "Epoch 57/100\n"
     ]
    },
    {
     "name": "stdout",
     "output_type": "stream",
     "text": [
      "117/117 [==============================] - 4s 35ms/step - loss: 0.0626 - accuracy: 0.9880 - val_loss: 0.0490 - val_accuracy: 0.9935\n",
      "Epoch 58/100\n",
      "117/117 [==============================] - 4s 32ms/step - loss: 0.0590 - accuracy: 0.9915 - val_loss: 0.0509 - val_accuracy: 0.9925\n",
      "Epoch 59/100\n",
      "117/117 [==============================] - 4s 32ms/step - loss: 0.0568 - accuracy: 0.9907 - val_loss: 0.0431 - val_accuracy: 0.9935\n",
      "Epoch 60/100\n",
      "117/117 [==============================] - 4s 32ms/step - loss: 0.0603 - accuracy: 0.9899 - val_loss: 0.0523 - val_accuracy: 0.9925\n",
      "Epoch 61/100\n",
      "117/117 [==============================] - 4s 35ms/step - loss: 0.0684 - accuracy: 0.9872 - val_loss: 0.0434 - val_accuracy: 0.9946\n",
      "Epoch 62/100\n",
      "117/117 [==============================] - 4s 34ms/step - loss: 0.0599 - accuracy: 0.9882 - val_loss: 0.0389 - val_accuracy: 0.9968\n",
      "Epoch 63/100\n",
      "117/117 [==============================] - 4s 33ms/step - loss: 0.0518 - accuracy: 0.9939 - val_loss: 0.0377 - val_accuracy: 0.9968\n",
      "Epoch 64/100\n",
      "117/117 [==============================] - 4s 34ms/step - loss: 0.0584 - accuracy: 0.9923 - val_loss: 0.0438 - val_accuracy: 0.9925\n",
      "Epoch 65/100\n",
      "117/117 [==============================] - 4s 32ms/step - loss: 0.0626 - accuracy: 0.9896 - val_loss: 0.0388 - val_accuracy: 0.9968\n",
      "Epoch 66/100\n",
      "117/117 [==============================] - 4s 32ms/step - loss: 0.0637 - accuracy: 0.9880 - val_loss: 0.0485 - val_accuracy: 0.9925\n",
      "Epoch 67/100\n",
      "117/117 [==============================] - 4s 34ms/step - loss: 0.0551 - accuracy: 0.9915 - val_loss: 0.0461 - val_accuracy: 0.9946\n",
      "Epoch 68/100\n",
      "117/117 [==============================] - 4s 31ms/step - loss: 0.0570 - accuracy: 0.9909 - val_loss: 0.0361 - val_accuracy: 0.9978\n",
      "Epoch 69/100\n",
      "117/117 [==============================] - 4s 32ms/step - loss: 0.0599 - accuracy: 0.9904 - val_loss: 0.0549 - val_accuracy: 0.9892\n",
      "Epoch 70/100\n",
      "117/117 [==============================] - 4s 31ms/step - loss: 0.0507 - accuracy: 0.9920 - val_loss: 0.0462 - val_accuracy: 0.9957\n",
      "Epoch 71/100\n",
      "117/117 [==============================] - 4s 31ms/step - loss: 0.0509 - accuracy: 0.9907 - val_loss: 0.0465 - val_accuracy: 0.9935\n",
      "Epoch 72/100\n",
      "117/117 [==============================] - 4s 35ms/step - loss: 0.0571 - accuracy: 0.9899 - val_loss: 0.0547 - val_accuracy: 0.9914\n",
      "Epoch 73/100\n",
      "117/117 [==============================] - 4s 34ms/step - loss: 0.0562 - accuracy: 0.9923 - val_loss: 0.0471 - val_accuracy: 0.9925\n",
      "Epoch 74/100\n",
      "117/117 [==============================] - 4s 33ms/step - loss: 0.0581 - accuracy: 0.9923 - val_loss: 0.0406 - val_accuracy: 0.9957\n",
      "Epoch 75/100\n",
      "117/117 [==============================] - 4s 34ms/step - loss: 0.0577 - accuracy: 0.9896 - val_loss: 0.0466 - val_accuracy: 0.9946\n",
      "Epoch 76/100\n",
      "117/117 [==============================] - 4s 33ms/step - loss: 0.0535 - accuracy: 0.9909 - val_loss: 0.0474 - val_accuracy: 0.9935\n",
      "Epoch 77/100\n",
      "117/117 [==============================] - 4s 34ms/step - loss: 0.0582 - accuracy: 0.9877 - val_loss: 0.0503 - val_accuracy: 0.9935\n",
      "Epoch 78/100\n",
      "117/117 [==============================] - 4s 34ms/step - loss: 0.0531 - accuracy: 0.9920 - val_loss: 0.0448 - val_accuracy: 0.9957\n",
      "Epoch 79/100\n",
      "117/117 [==============================] - 4s 32ms/step - loss: 0.0528 - accuracy: 0.9920 - val_loss: 0.0416 - val_accuracy: 0.9957\n",
      "Epoch 80/100\n",
      "117/117 [==============================] - 4s 33ms/step - loss: 0.0609 - accuracy: 0.9912 - val_loss: 0.0437 - val_accuracy: 0.9946\n",
      "Epoch 81/100\n",
      "117/117 [==============================] - 4s 33ms/step - loss: 0.0477 - accuracy: 0.9947 - val_loss: 0.0414 - val_accuracy: 0.9957\n",
      "Epoch 82/100\n",
      "117/117 [==============================] - 4s 33ms/step - loss: 0.0502 - accuracy: 0.9931 - val_loss: 0.0407 - val_accuracy: 0.9957\n",
      "Epoch 83/100\n",
      "117/117 [==============================] - 4s 34ms/step - loss: 0.0532 - accuracy: 0.9939 - val_loss: 0.0440 - val_accuracy: 0.9968\n",
      "Epoch 84/100\n",
      "117/117 [==============================] - 4s 33ms/step - loss: 0.0617 - accuracy: 0.9874 - val_loss: 0.0396 - val_accuracy: 0.9968\n",
      "Epoch 85/100\n",
      "117/117 [==============================] - 4s 34ms/step - loss: 0.0533 - accuracy: 0.9939 - val_loss: 0.0416 - val_accuracy: 0.9968\n",
      "Epoch 86/100\n",
      "117/117 [==============================] - 4s 37ms/step - loss: 0.0640 - accuracy: 0.9877 - val_loss: 0.0533 - val_accuracy: 0.9903\n",
      "Epoch 87/100\n",
      "117/117 [==============================] - 4s 35ms/step - loss: 0.0566 - accuracy: 0.9896 - val_loss: 0.0457 - val_accuracy: 0.9935\n",
      "Epoch 88/100\n",
      "117/117 [==============================] - 4s 33ms/step - loss: 0.0528 - accuracy: 0.9925 - val_loss: 0.0373 - val_accuracy: 0.9968\n",
      "Epoch 89/100\n",
      "117/117 [==============================] - 4s 35ms/step - loss: 0.0503 - accuracy: 0.9944 - val_loss: 0.0436 - val_accuracy: 0.9946\n",
      "Epoch 90/100\n",
      "117/117 [==============================] - 4s 34ms/step - loss: 0.0462 - accuracy: 0.9949 - val_loss: 0.0439 - val_accuracy: 0.9957\n",
      "Epoch 91/100\n",
      "117/117 [==============================] - 5s 39ms/step - loss: 0.0532 - accuracy: 0.9909 - val_loss: 0.0447 - val_accuracy: 0.9946\n",
      "Epoch 92/100\n",
      "117/117 [==============================] - 4s 33ms/step - loss: 0.0543 - accuracy: 0.9915 - val_loss: 0.0412 - val_accuracy: 0.9946\n",
      "Epoch 93/100\n",
      "117/117 [==============================] - 4s 31ms/step - loss: 0.0526 - accuracy: 0.9925 - val_loss: 0.0410 - val_accuracy: 0.9968\n",
      "Epoch 94/100\n",
      "117/117 [==============================] - 4s 32ms/step - loss: 0.0551 - accuracy: 0.9917 - val_loss: 0.0463 - val_accuracy: 0.9957\n",
      "Epoch 95/100\n",
      "117/117 [==============================] - 5s 40ms/step - loss: 0.0530 - accuracy: 0.9939 - val_loss: 0.0423 - val_accuracy: 0.9957\n",
      "Epoch 96/100\n",
      "117/117 [==============================] - 4s 38ms/step - loss: 0.0448 - accuracy: 0.9941 - val_loss: 0.0412 - val_accuracy: 0.9978\n",
      "Epoch 97/100\n",
      "117/117 [==============================] - 5s 40ms/step - loss: 0.0567 - accuracy: 0.9917 - val_loss: 0.0404 - val_accuracy: 0.9978\n",
      "Epoch 98/100\n",
      "117/117 [==============================] - 5s 40ms/step - loss: 0.0474 - accuracy: 0.9944 - val_loss: 0.0463 - val_accuracy: 0.9946\n",
      "Epoch 99/100\n",
      "117/117 [==============================] - 4s 37ms/step - loss: 0.0562 - accuracy: 0.9912 - val_loss: 0.0418 - val_accuracy: 0.9925\n",
      "Epoch 100/100\n",
      "117/117 [==============================] - 5s 39ms/step - loss: 0.0551 - accuracy: 0.9925 - val_loss: 0.0428 - val_accuracy: 0.9957\n"
     ]
    }
   ],
   "source": [
    "model.compile(optimizer='adam',\n",
    "              loss=tf.keras.losses.CategoricalCrossentropy(),\n",
    "              metrics=['accuracy'])\n",
    "\n",
    "history = model.fit_generator(\n",
    "    train_data_gen,\n",
    "    steps_per_epoch=train_data_gen.samples // batch_size,\n",
    "    epochs=epochs,\n",
    "    validation_data=val_data_gen,\n",
    "    validation_steps=val_data_gen.samples // batch_size,\n",
    "    callbacks=[tensorboard_callback, cm_callback]\n",
    ")"
   ]
  },
  {
   "cell_type": "code",
   "execution_count": 35,
   "metadata": {},
   "outputs": [
    {
     "data": {
      "image/png": "[encoded data removed]",
      "text/plain": [
       "<Figure size 576x576 with 2 Axes>"
      ]
     },
     "metadata": {
      "needs_background": "light"
     },
     "output_type": "display_data"
    }
   ],
   "source": [
    "acc = history.history['accuracy']\n",
    "val_acc = history.history['val_accuracy']\n",
    "\n",
    "loss = history.history['loss']\n",
    "val_loss = history.history['val_loss']\n",
    "\n",
    "epochs_range = range(epochs)\n",
    "\n",
    "plt.figure(figsize=(8, 8))\n",
    "plt.subplot(1, 2, 1)\n",
    "plt.plot(epochs_range, acc, label='Training Accuracy')\n",
    "plt.plot(epochs_range, val_acc, label='Validation Accuracy')\n",
    "plt.legend(loc='lower right')\n",
    "plt.title('Training and Validation Accuracy')\n",
    "\n",
    "plt.subplot(1, 2, 2)\n",
    "plt.plot(epochs_range, loss, label='Training Loss')\n",
    "plt.plot(epochs_range, val_loss, label='Validation Loss')\n",
    "plt.legend(loc='upper right')\n",
    "plt.title('Training and Validation Loss')\n",
    "plt.show()"
   ]
  },
  {
   "cell_type": "code",
   "execution_count": 36,
   "metadata": {},
   "outputs": [
    {
     "name": "stdout",
     "output_type": "stream",
     "text": [
      "INFO:tensorflow:Assets written to: trained.model/assets\n"
     ]
    }
   ],
   "source": [
    "model.save(\"trained.model\")"
   ]
  },
  {
   "cell_type": "markdown",
   "metadata": {},
   "source": [
    "# Train on all the available data for our final model"
   ]
  },
  {
   "cell_type": "code",
   "execution_count": 37,
   "metadata": {},
   "outputs": [
    {
     "name": "stdout",
     "output_type": "stream",
     "text": [
      "Found 5193 images belonging to 9 classes.\n"
     ]
    }
   ],
   "source": [
    "all_data_gen = augmented_image_gen.flow_from_directory(batch_size=batch_size,\n",
    "                                                     directory=\"all_data\",\n",
    "                                                     color_mode=\"grayscale\",\n",
    "                                                     shuffle=True,\n",
    "                                                     target_size=(IMG_HEIGHT, IMG_WIDTH),\n",
    "                                                     class_mode=\"categorical\")"
   ]
  },
  {
   "cell_type": "code",
   "execution_count": 38,
   "metadata": {},
   "outputs": [
    {
     "name": "stdout",
     "output_type": "stream",
     "text": [
      "Epoch 1/50\n",
      "117/117 [==============================] - 4s 30ms/step - loss: 0.0611 - accuracy: 0.9901\n",
      "Epoch 2/50\n",
      "117/117 [==============================] - 4s 31ms/step - loss: 0.0682 - accuracy: 0.9884\n",
      "Epoch 3/50\n",
      "117/117 [==============================] - 4s 30ms/step - loss: 0.0553 - accuracy: 0.9922\n",
      "Epoch 4/50\n",
      "117/117 [==============================] - 3s 26ms/step - loss: 0.0581 - accuracy: 0.9898\n",
      "Epoch 5/50\n",
      "117/117 [==============================] - 3s 26ms/step - loss: 0.0531 - accuracy: 0.9941\n",
      "Epoch 6/50\n",
      "117/117 [==============================] - 3s 24ms/step - loss: 0.0574 - accuracy: 0.9906\n",
      "Epoch 7/50\n",
      "117/117 [==============================] - 3s 24ms/step - loss: 0.0598 - accuracy: 0.9887\n",
      "Epoch 8/50\n",
      "117/117 [==============================] - 3s 25ms/step - loss: 0.0540 - accuracy: 0.9923\n",
      "Epoch 9/50\n",
      "117/117 [==============================] - 3s 24ms/step - loss: 0.0495 - accuracy: 0.9936\n",
      "Epoch 10/50\n",
      "117/117 [==============================] - 3s 25ms/step - loss: 0.0612 - accuracy: 0.9882\n",
      "Epoch 11/50\n",
      "117/117 [==============================] - 3s 27ms/step - loss: 0.0451 - accuracy: 0.9954\n",
      "Epoch 12/50\n",
      "117/117 [==============================] - 3s 25ms/step - loss: 0.0506 - accuracy: 0.9939\n",
      "Epoch 13/50\n",
      "117/117 [==============================] - 3s 24ms/step - loss: 0.0518 - accuracy: 0.9920\n",
      "Epoch 14/50\n",
      "117/117 [==============================] - 3s 25ms/step - loss: 0.0540 - accuracy: 0.9920\n",
      "Epoch 15/50\n",
      "117/117 [==============================] - 3s 24ms/step - loss: 0.0614 - accuracy: 0.9871\n",
      "Epoch 16/50\n",
      "117/117 [==============================] - 3s 26ms/step - loss: 0.0527 - accuracy: 0.9923\n",
      "Epoch 17/50\n",
      "117/117 [==============================] - 3s 27ms/step - loss: 0.0587 - accuracy: 0.9898\n",
      "Epoch 18/50\n",
      "117/117 [==============================] - 3s 26ms/step - loss: 0.0529 - accuracy: 0.9933\n",
      "Epoch 19/50\n",
      "117/117 [==============================] - 3s 26ms/step - loss: 0.0501 - accuracy: 0.9946\n",
      "Epoch 20/50\n",
      "117/117 [==============================] - 3s 26ms/step - loss: 0.0505 - accuracy: 0.9946\n",
      "Epoch 21/50\n",
      "117/117 [==============================] - 3s 26ms/step - loss: 0.0553 - accuracy: 0.9930\n",
      "Epoch 22/50\n",
      "117/117 [==============================] - 3s 27ms/step - loss: 0.0494 - accuracy: 0.9928\n",
      "Epoch 23/50\n",
      "117/117 [==============================] - 3s 26ms/step - loss: 0.0533 - accuracy: 0.9919\n",
      "Epoch 24/50\n",
      "117/117 [==============================] - 3s 26ms/step - loss: 0.0456 - accuracy: 0.9946\n",
      "Epoch 25/50\n",
      "117/117 [==============================] - 3s 24ms/step - loss: 0.0515 - accuracy: 0.9930\n",
      "Epoch 26/50\n",
      "117/117 [==============================] - 3s 26ms/step - loss: 0.0455 - accuracy: 0.9949\n",
      "Epoch 27/50\n",
      "117/117 [==============================] - 3s 25ms/step - loss: 0.0489 - accuracy: 0.9941\n",
      "Epoch 28/50\n",
      "117/117 [==============================] - 3s 24ms/step - loss: 0.0474 - accuracy: 0.9944\n",
      "Epoch 29/50\n",
      "117/117 [==============================] - 3s 26ms/step - loss: 0.0450 - accuracy: 0.9944\n",
      "Epoch 30/50\n",
      "117/117 [==============================] - 3s 25ms/step - loss: 0.0599 - accuracy: 0.9885\n",
      "Epoch 31/50\n",
      "117/117 [==============================] - 3s 25ms/step - loss: 0.0441 - accuracy: 0.9963\n",
      "Epoch 32/50\n",
      "117/117 [==============================] - 3s 26ms/step - loss: 0.0511 - accuracy: 0.9933\n",
      "Epoch 33/50\n",
      "117/117 [==============================] - 3s 25ms/step - loss: 0.0550 - accuracy: 0.9920\n",
      "Epoch 34/50\n",
      "117/117 [==============================] - 3s 28ms/step - loss: 0.0596 - accuracy: 0.9903\n",
      "Epoch 35/50\n",
      "117/117 [==============================] - 3s 26ms/step - loss: 0.0538 - accuracy: 0.9925\n",
      "Epoch 36/50\n",
      "117/117 [==============================] - 3s 25ms/step - loss: 0.0505 - accuracy: 0.9949\n",
      "Epoch 37/50\n",
      "117/117 [==============================] - 3s 28ms/step - loss: 0.0539 - accuracy: 0.9933\n",
      "Epoch 38/50\n",
      "117/117 [==============================] - 3s 28ms/step - loss: 0.0511 - accuracy: 0.9922\n",
      "Epoch 39/50\n",
      "117/117 [==============================] - 3s 27ms/step - loss: 0.0517 - accuracy: 0.9914\n",
      "Epoch 40/50\n",
      "117/117 [==============================] - 3s 27ms/step - loss: 0.0535 - accuracy: 0.9911\n",
      "Epoch 41/50\n",
      "117/117 [==============================] - 3s 26ms/step - loss: 0.0473 - accuracy: 0.9949\n",
      "Epoch 42/50\n",
      "117/117 [==============================] - 3s 26ms/step - loss: 0.0496 - accuracy: 0.9939\n",
      "Epoch 43/50\n",
      "117/117 [==============================] - 3s 27ms/step - loss: 0.0486 - accuracy: 0.9941\n",
      "Epoch 44/50\n",
      "117/117 [==============================] - 3s 25ms/step - loss: 0.0487 - accuracy: 0.9925\n",
      "Epoch 45/50\n",
      "117/117 [==============================] - 3s 27ms/step - loss: 0.0451 - accuracy: 0.9944\n",
      "Epoch 46/50\n",
      "117/117 [==============================] - 3s 26ms/step - loss: 0.0461 - accuracy: 0.9938\n",
      "Epoch 47/50\n",
      "117/117 [==============================] - 3s 26ms/step - loss: 0.0490 - accuracy: 0.9938\n",
      "Epoch 48/50\n",
      "117/117 [==============================] - 3s 27ms/step - loss: 0.0528 - accuracy: 0.9933\n",
      "Epoch 49/50\n",
      "117/117 [==============================] - 3s 30ms/step - loss: 0.0483 - accuracy: 0.9933\n",
      "Epoch 50/50\n",
      "117/117 [==============================] - 3s 25ms/step - loss: 0.0471 - accuracy: 0.9933\n"
     ]
    }
   ],
   "source": [
    "all_history = model.fit_generator(\n",
    "    all_data_gen,\n",
    "    steps_per_epoch=train_data_gen.samples // batch_size,\n",
    "    epochs=50)"
   ]
  },
  {
   "cell_type": "code",
   "execution_count": 39,
   "metadata": {},
   "outputs": [
    {
     "data": {
      "image/png": "[encoded data removed]",
      "text/plain": [
       "<Figure size 1152x432 with 2 Axes>"
      ]
     },
     "metadata": {
      "needs_background": "light"
     },
     "output_type": "display_data"
    }
   ],
   "source": [
    "acc = history.history['accuracy']\n",
    "loss = history.history['loss']\n",
    "\n",
    "epochs_range = range(epochs)\n",
    "\n",
    "plt.figure(figsize=(16, 6))\n",
    "plt.subplot(1, 2, 1)\n",
    "plt.plot(epochs_range, acc, label='Training Accuracy')\n",
    "plt.legend(loc='lower right')\n",
    "plt.title('Training Accuracy')\n",
    "\n",
    "plt.subplot(1, 2, 2)\n",
    "plt.plot(epochs_range, loss, label='Training Loss')\n",
    "plt.legend(loc='upper right')\n",
    "plt.title('Training Loss')\n",
    "plt.show()"
   ]
  },
  {
   "cell_type": "code",
   "execution_count": 40,
   "metadata": {},
   "outputs": [
    {
     "name": "stdout",
     "output_type": "stream",
     "text": [
      "INFO:tensorflow:Assets written to: trained.model/assets\n"
     ]
    }
   ],
   "source": [
    "model.save(\"trained.model\")"
   ]
  },
  {
   "cell_type": "code",
   "execution_count": 41,
   "metadata": {},
   "outputs": [
    {
     "name": "stderr",
     "output_type": "stream",
     "text": [
      "/Users/chrisgreening/Work/projects/sudoku-grab/tensorflow/venv/lib/python3.7/site-packages/tensorflowjs/converters/keras_h5_conversion.py:122: H5pyDeprecationWarning: The default file mode will change to 'r' (read-only) in h5py 3.0. To suppress this warning, pass the mode you need to h5py.File(), or set the global default h5.get_config().default_file_mode, or set the environment variable H5PY_DEFAULT_READONLY=1. Available modes are: 'r', 'r+', 'w', 'w-'/'x', 'a'. See the docs for details.\n",
      "  return h5py.File(h5file)\n"
     ]
    }
   ],
   "source": [
    "import tensorflowjs as tfjs\n",
    "tfjs.converters.save_keras_model(model, \"tfjs_model\")"
   ]
  },
  {
   "cell_type": "code",
   "execution_count": null,
   "metadata": {},
   "outputs": [],
   "source": []
  }
 ],
 "metadata": {
  "kernelspec": {
   "display_name": "Python 3",
   "language": "python",
   "name": "python3"
  },
  "language_info": {
   "codemirror_mode": {
    "name": "ipython",
    "version": 3
   },
   "file_extension": ".py",
   "mimetype": "text/x-python",
   "name": "python",
   "nbconvert_exporter": "python",
   "pygments_lexer": "ipython3",
   "version": "3.7.3"
  }
 },
 "nbformat": 4,
 "nbformat_minor": 4
}
